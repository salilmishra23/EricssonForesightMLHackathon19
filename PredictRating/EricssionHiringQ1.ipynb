{
 "cells": [
  {
   "cell_type": "code",
   "execution_count": 0,
   "metadata": {
    "colab": {},
    "colab_type": "code",
    "id": "qOM4FUp74Uxx"
   },
   "outputs": [],
   "source": [
    "import pandas as pd\n",
    "import numpy as np\n",
    "from sklearn.metrics import make_scorer, f1_score\n",
    "from sklearn.model_selection import StratifiedKFold, cross_val_score, cross_val_predict\n",
    "\n",
    "from catboost import CatBoostClassifier\n",
    "from sklearn.model_selection import train_test_split\n",
    "\n",
    "import warnings\n",
    "warnings.filterwarnings('ignore')"
   ]
  },
  {
   "cell_type": "code",
   "execution_count": 0,
   "metadata": {
    "colab": {},
    "colab_type": "code",
    "id": "ien4e4P_5P_G"
   },
   "outputs": [],
   "source": [
    "from shutil import unpack_archive\n",
    "unpack_archive('NLP_Datac2476d7.zip')"
   ]
  },
  {
   "cell_type": "code",
   "execution_count": 0,
   "metadata": {
    "colab": {},
    "colab_type": "code",
    "id": "XhDvmWJy54b-"
   },
   "outputs": [],
   "source": [
    "def write_submission(pred, filename):\n",
    "  sub = pd.DataFrame()\n",
    "  test_df = pd.read_csv('NLP_Data/test.csv')\n",
    "  sub['ID'] = test_df.ID\n",
    "  sub['overall'] = pred\n",
    "  sub.to_csv(filename, index=False)"
   ]
  },
  {
   "cell_type": "code",
   "execution_count": 0,
   "metadata": {
    "colab": {},
    "colab_type": "code",
    "id": "JzF1W4Ya59MQ"
   },
   "outputs": [],
   "source": [
    "train = pd.read_csv('NLP_Data/train.csv')\n",
    "test = pd.read_csv('NLP_Data/test.csv')"
   ]
  },
  {
   "cell_type": "code",
   "execution_count": 0,
   "metadata": {
    "colab": {},
    "colab_type": "code",
    "id": "_7SYwxFc5_xg"
   },
   "outputs": [],
   "source": [
    "train.score_1.fillna(4.0, inplace=True)\n",
    "train.score_2.fillna(5.0, inplace=True)\n",
    "train.score_3.fillna(5.0, inplace=True)\n",
    "train.score_4.fillna(5.0, inplace=True)\n",
    "train.score_5.fillna(4.0, inplace=True)\n",
    "\n",
    "for col in train.columns[-7:-2]:\n",
    "  train[col] = np.floor(train[col])\n",
    "  train[col] = train[col].astype(int)\n",
    "  test[col] = test[col].astype(int)"
   ]
  },
  {
   "cell_type": "code",
   "execution_count": 0,
   "metadata": {
    "colab": {},
    "colab_type": "code",
    "id": "il46IeUw7Sun"
   },
   "outputs": [],
   "source": [
    "train['advice_mgt_avail'] = train.advice_to_mgmt.isna().astype(int)\n",
    "test['advice_mgt_avail'] = test.advice_to_mgmt.isna().astype(int)"
   ]
  },
  {
   "cell_type": "code",
   "execution_count": 0,
   "metadata": {
    "colab": {},
    "colab_type": "code",
    "id": "uwdloSGH8PMA"
   },
   "outputs": [],
   "source": [
    "train['loca_avail'] = train.location.isna().astype(int)\n",
    "test['loca_avail'] = test.location.isna().astype(int)"
   ]
  },
  {
   "cell_type": "code",
   "execution_count": 0,
   "metadata": {
    "colab": {},
    "colab_type": "code",
    "id": "NnvJEzZQ7Qt5"
   },
   "outputs": [],
   "source": [
    "train_min = train[['Place','status', 'advice_mgt_avail', 'loca_avail', 'score_1', 'score_2', 'score_3', 'score_4', 'score_5', 'score_6']].copy()\n",
    "test_min = test[['Place','status', 'advice_mgt_avail', 'loca_avail', 'score_1', 'score_2', 'score_3', 'score_4', 'score_5', 'score_6']].copy()"
   ]
  },
  {
   "cell_type": "code",
   "execution_count": 0,
   "metadata": {
    "colab": {},
    "colab_type": "code",
    "id": "MNwZFgRq8seO"
   },
   "outputs": [],
   "source": [
    "y = train.overall.astype(int)"
   ]
  },
  {
   "cell_type": "code",
   "execution_count": 0,
   "metadata": {
    "colab": {
     "base_uri": "https://localhost:8080/",
     "height": 208
    },
    "colab_type": "code",
    "id": "OYE5xke48vQg",
    "outputId": "409f2f1e-407e-41b1-bf7d-bc57604995c3"
   },
   "outputs": [
    {
     "data": {
      "text/plain": [
       "(Place               object\n",
       " status              object\n",
       " advice_mgt_avail     int64\n",
       " loca_avail           int64\n",
       " score_1              int64\n",
       " score_2              int64\n",
       " score_3              int64\n",
       " score_4              int64\n",
       " score_5              int64\n",
       " score_6              int64\n",
       " dtype: object, 10)"
      ]
     },
     "execution_count": 18,
     "metadata": {
      "tags": []
     },
     "output_type": "execute_result"
    }
   ],
   "source": [
    "train_min.dtypes, len(train_min.columns)"
   ]
  },
  {
   "cell_type": "code",
   "execution_count": 0,
   "metadata": {
    "colab": {},
    "colab_type": "code",
    "id": "X2q87z129Jxt"
   },
   "outputs": [],
   "source": [
    "cat_cols = [0, 1, 2, 3, 4, 5, 6, 7, 8]"
   ]
  },
  {
   "cell_type": "code",
   "execution_count": 0,
   "metadata": {
    "colab": {},
    "colab_type": "code",
    "id": "n7kvVsEf9cn3"
   },
   "outputs": [],
   "source": [
    "X_train, X_val, y_train, y_val = train_test_split(train_min, y, stratify=y,\n",
    "                                                  test_size=0.2,\n",
    "                                                  random_state=42)"
   ]
  },
  {
   "cell_type": "code",
   "execution_count": 0,
   "metadata": {
    "colab": {},
    "colab_type": "code",
    "id": "hbqm6nAz9fae"
   },
   "outputs": [],
   "source": [
    "clf = CatBoostClassifier(loss_function='MultiClass', eval_metric='TotalF1', task_type='GPU',\n",
    "                         use_best_model=True)"
   ]
  },
  {
   "cell_type": "code",
   "execution_count": 0,
   "metadata": {
    "colab": {},
    "colab_type": "code",
    "id": "yiDZReWL9psZ"
   },
   "outputs": [],
   "source": [
    "clf.fit(X_train, y_train, eval_set=(X_val, y_val), cat_features=cat_cols)"
   ]
  },
  {
   "cell_type": "code",
   "execution_count": 0,
   "metadata": {
    "colab": {},
    "colab_type": "code",
    "id": "lXigwHe89trU"
   },
   "outputs": [],
   "source": [
    "clf = CatBoostClassifier(iterations=250, loss_function='MultiClass', eval_metric='TotalF1', task_type='GPU')\n",
    "clf.fit(train_min, y, cat_features=cat_cols)"
   ]
  },
  {
   "cell_type": "code",
   "execution_count": 0,
   "metadata": {
    "colab": {
     "base_uri": "https://localhost:8080/",
     "height": 363
    },
    "colab_type": "code",
    "id": "mjf7jxDL94cZ",
    "outputId": "5732edeb-0a44-4356-f465-fca6f0b79649"
   },
   "outputs": [
    {
     "data": {
      "text/html": [
       "<div>\n",
       "<style scoped>\n",
       "    .dataframe tbody tr th:only-of-type {\n",
       "        vertical-align: middle;\n",
       "    }\n",
       "\n",
       "    .dataframe tbody tr th {\n",
       "        vertical-align: top;\n",
       "    }\n",
       "\n",
       "    .dataframe thead th {\n",
       "        text-align: right;\n",
       "    }\n",
       "</style>\n",
       "<table border=\"1\" class=\"dataframe\">\n",
       "  <thead>\n",
       "    <tr style=\"text-align: right;\">\n",
       "      <th></th>\n",
       "      <th>Importance</th>\n",
       "    </tr>\n",
       "  </thead>\n",
       "  <tbody>\n",
       "    <tr>\n",
       "      <th>score_1</th>\n",
       "      <td>17.541444</td>\n",
       "    </tr>\n",
       "    <tr>\n",
       "      <th>score_5</th>\n",
       "      <td>15.500956</td>\n",
       "    </tr>\n",
       "    <tr>\n",
       "      <th>score_3</th>\n",
       "      <td>14.185633</td>\n",
       "    </tr>\n",
       "    <tr>\n",
       "      <th>score_2</th>\n",
       "      <td>11.946469</td>\n",
       "    </tr>\n",
       "    <tr>\n",
       "      <th>score_4</th>\n",
       "      <td>11.238628</td>\n",
       "    </tr>\n",
       "    <tr>\n",
       "      <th>Place</th>\n",
       "      <td>9.572715</td>\n",
       "    </tr>\n",
       "    <tr>\n",
       "      <th>score_6</th>\n",
       "      <td>7.753991</td>\n",
       "    </tr>\n",
       "    <tr>\n",
       "      <th>advice_mgt_avail</th>\n",
       "      <td>6.228728</td>\n",
       "    </tr>\n",
       "    <tr>\n",
       "      <th>loca_avail</th>\n",
       "      <td>3.281891</td>\n",
       "    </tr>\n",
       "    <tr>\n",
       "      <th>status</th>\n",
       "      <td>2.749547</td>\n",
       "    </tr>\n",
       "  </tbody>\n",
       "</table>\n",
       "</div>"
      ],
      "text/plain": [
       "                  Importance\n",
       "score_1            17.541444\n",
       "score_5            15.500956\n",
       "score_3            14.185633\n",
       "score_2            11.946469\n",
       "score_4            11.238628\n",
       "Place               9.572715\n",
       "score_6             7.753991\n",
       "advice_mgt_avail    6.228728\n",
       "loca_avail          3.281891\n",
       "status              2.749547"
      ]
     },
     "execution_count": 25,
     "metadata": {
      "tags": []
     },
     "output_type": "execute_result"
    }
   ],
   "source": [
    "pd.DataFrame(clf.feature_importances_, index=clf.feature_names_, columns=['Importance']).sort_values(by='Importance', ascending=False)"
   ]
  },
  {
   "cell_type": "code",
   "execution_count": 0,
   "metadata": {
    "colab": {},
    "colab_type": "code",
    "id": "78MzxhQwFiBL"
   },
   "outputs": [],
   "source": []
  },
  {
   "cell_type": "code",
   "execution_count": 0,
   "metadata": {
    "colab": {},
    "colab_type": "code",
    "id": "2MJPobWehS-V"
   },
   "outputs": [],
   "source": [
    "from sklearn.ensemble import BaggingClassifier"
   ]
  },
  {
   "cell_type": "code",
   "execution_count": 0,
   "metadata": {
    "colab": {},
    "colab_type": "code",
    "id": "gH6aQYSIha-C"
   },
   "outputs": [],
   "source": [
    "clf_cat = CatBoostClassifier(loss_function='MultiClass', task_type='GPU', verbose=False, **best_params_cat, cat_features=cat_cols)"
   ]
  },
  {
   "cell_type": "code",
   "execution_count": 0,
   "metadata": {
    "colab": {
     "base_uri": "https://localhost:8080/",
     "height": 86
    },
    "colab_type": "code",
    "id": "XY3Te7MRhmDG",
    "outputId": "d3758a79-35a5-48a0-fd44-d23136e8ac9b"
   },
   "outputs": [
    {
     "data": {
      "text/plain": [
       "BaggingClassifier(base_estimator=<catboost.core.CatBoostClassifier object at 0x7f200c1a1d30>,\n",
       "         bootstrap=True, bootstrap_features=False, max_features=1.0,\n",
       "         max_samples=1.0, n_estimators=15, n_jobs=None, oob_score=False,\n",
       "         random_state=None, verbose=0, warm_start=False)"
      ]
     },
     "execution_count": 27,
     "metadata": {
      "tags": []
     },
     "output_type": "execute_result"
    }
   ],
   "source": [
    "bag_cat = BaggingClassifier(clf_cat, n_estimators=15)\n",
    "bag_cat.fit(train_min, y)"
   ]
  },
  {
   "cell_type": "code",
   "execution_count": 0,
   "metadata": {
    "colab": {},
    "colab_type": "code",
    "id": "C3JOi0I9h3pl"
   },
   "outputs": [],
   "source": [
    "preds = bag_cat.predict(test_min)"
   ]
  },
  {
   "cell_type": "code",
   "execution_count": 0,
   "metadata": {
    "colab": {},
    "colab_type": "code",
    "id": "mVw97lgnh3nE"
   },
   "outputs": [],
   "source": [
    "write_submission(preds, 'CB_bag15.csv')\n",
    "#LB 0.39088"
   ]
  },
  {
   "cell_type": "code",
   "execution_count": 0,
   "metadata": {
    "colab": {},
    "colab_type": "code",
    "id": "ihEYe3R92CX5"
   },
   "outputs": [],
   "source": []
  },
  {
   "cell_type": "code",
   "execution_count": 0,
   "metadata": {
    "colab": {},
    "colab_type": "code",
    "id": "1QhZ8Tvh2CS7"
   },
   "outputs": [],
   "source": []
  },
  {
   "cell_type": "code",
   "execution_count": 0,
   "metadata": {
    "colab": {},
    "colab_type": "code",
    "id": "ylivOjjU3gLQ"
   },
   "outputs": [],
   "source": []
  }
 ],
 "metadata": {
  "accelerator": "GPU",
  "colab": {
   "collapsed_sections": [],
   "name": "EricssionHiringQ1.ipynb",
   "provenance": [],
   "version": "0.3.2"
  },
  "kernelspec": {
   "display_name": "Python 3",
   "language": "python",
   "name": "python3"
  },
  "language_info": {
   "codemirror_mode": {
    "name": "ipython",
    "version": 3
   },
   "file_extension": ".py",
   "mimetype": "text/x-python",
   "name": "python",
   "nbconvert_exporter": "python",
   "pygments_lexer": "ipython3",
   "version": "3.6.7"
  }
 },
 "nbformat": 4,
 "nbformat_minor": 1
}
