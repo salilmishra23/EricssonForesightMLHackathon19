{
 "cells": [
  {
   "cell_type": "code",
   "execution_count": 0,
   "metadata": {
    "colab": {},
    "colab_type": "code",
    "id": "66sXBUUrEf3R"
   },
   "outputs": [],
   "source": [
    "import pandas as pd\n",
    "import numpy as np\n",
    "from sklearn.metrics import make_scorer, f1_score, accuracy_score\n",
    "from sklearn.model_selection import StratifiedKFold, cross_val_score, cross_val_predict\n",
    "from scipy import sparse\n",
    "from lightgbm import LGBMClassifier\n",
    "from xgboost import XGBClassifier\n",
    "from sklearn.feature_extraction.text import CountVectorizer, TfidfVectorizer\n",
    "from sklearn.linear_model import LogisticRegression\n",
    "\n",
    "import warnings\n",
    "warnings.filterwarnings('ignore')"
   ]
  },
  {
   "cell_type": "code",
   "execution_count": 0,
   "metadata": {
    "colab": {
     "base_uri": "https://localhost:8080/",
     "height": 86
    },
    "colab_type": "code",
    "id": "oJrKXQuwEhbr",
    "outputId": "912df40e-6614-477a-db90-c1b3ef26d9ad"
   },
   "outputs": [
    {
     "data": {
      "text/plain": [
       "Index(['ID', 'UsageClass', 'CheckoutType', 'CheckoutYear', 'CheckoutMonth',\n",
       "       'Checkouts', 'Title', 'Creator', 'Subjects', 'Publisher',\n",
       "       'PublicationYear', 'MaterialType'],\n",
       "      dtype='object')"
      ]
     },
     "execution_count": 2,
     "metadata": {
      "tags": []
     },
     "output_type": "execute_result"
    }
   ],
   "source": [
    "train = pd.read_csv('Predictive_Data/train_file.csv')\n",
    "test = pd.read_csv('Predictive_Data/test_file.csv')\n",
    "train.columns"
   ]
  },
  {
   "cell_type": "code",
   "execution_count": 0,
   "metadata": {
    "colab": {},
    "colab_type": "code",
    "id": "mx-Nek_XEis_"
   },
   "outputs": [],
   "source": [
    "def write_submission_file(prediction, file_name):\n",
    "    sub = pd.DataFrame()\n",
    "    sub['ID'] = pd.read_csv('Predictive_Data/test_file.csv')['ID']\n",
    "    sub['MaterialType'] = prediction\n",
    "    sub.MaterialType = sub.MaterialType.astype(int).replace(numbers_mt)\n",
    "    sub.to_csv(file_name, index=False, header=True)"
   ]
  },
  {
   "cell_type": "code",
   "execution_count": 0,
   "metadata": {
    "colab": {
     "base_uri": "https://localhost:8080/",
     "height": 173
    },
    "colab_type": "code",
    "id": "-3ykPhrRRxGd",
    "outputId": "4b5e610c-3c05-498d-b537-f38263b88bf8"
   },
   "outputs": [
    {
     "data": {
      "text/plain": [
       "BOOK         21707\n",
       "SOUNDDISC     4149\n",
       "VIDEOCASS     2751\n",
       "VIDEODISC     1420\n",
       "SOUNDCASS     1020\n",
       "MIXED          347\n",
       "MUSIC          165\n",
       "CR              94\n",
       "Name: MaterialType, dtype: int64"
      ]
     },
     "execution_count": 4,
     "metadata": {
      "tags": []
     },
     "output_type": "execute_result"
    }
   ],
   "source": [
    "train.MaterialType.value_counts()"
   ]
  },
  {
   "cell_type": "code",
   "execution_count": 0,
   "metadata": {
    "colab": {},
    "colab_type": "code",
    "id": "KYYoMzK8EkQM"
   },
   "outputs": [],
   "source": [
    "mt_numbers = {'BOOK':0, 'SOUNDDISC':1, 'VIDEOCASS':2, 'VIDEODISC':3, 'SOUNDCASS':4, 'MIXED':5, 'MUSIC':6, 'CR':7}\n",
    "numbers_mt = {0:'BOOK', 1:'SOUNDDISC', 2:'VIDEOCASS', 3:'VIDEODISC', 4:'SOUNDCASS', 5:'MIXED', 6:'MUSIC', 7:'CR'}\n",
    "train.MaterialType = train.MaterialType.replace(mt_numbers)"
   ]
  },
  {
   "cell_type": "code",
   "execution_count": 0,
   "metadata": {
    "colab": {},
    "colab_type": "code",
    "id": "UIGNSjJfElsc"
   },
   "outputs": [],
   "source": [
    "y = train.MaterialType\n",
    "train = train.drop('MaterialType', axis=1)"
   ]
  },
  {
   "cell_type": "code",
   "execution_count": 0,
   "metadata": {
    "colab": {},
    "colab_type": "code",
    "id": "DLlfTq4mEnoU"
   },
   "outputs": [],
   "source": [
    "f1 = make_scorer(f1_score, greater_is_better=True, average='weighted')\n",
    "acc = make_scorer(accuracy_score, greater_is_better=True)\n",
    "skf = StratifiedKFold(n_splits=5, shuffle=True, random_state=42)"
   ]
  },
  {
   "cell_type": "code",
   "execution_count": 0,
   "metadata": {
    "colab": {},
    "colab_type": "code",
    "id": "69cTSYzjEo-N"
   },
   "outputs": [],
   "source": [
    "train['SubjectPresent'] = train.Subjects.isna().astype(int)\n",
    "test['SubjectPresent'] = test.Subjects.isna().astype(int)\n",
    "\n",
    "train['PublisherPresent'] = train.Publisher.isna().astype(int)\n",
    "test['PublisherPresent'] = test.Publisher.isna().astype(int)\n",
    "\n",
    "train['CreatorPresent'] = train.Creator.isna().astype(int)\n",
    "test['CreatorPresent'] = test.Creator.isna().astype(int)"
   ]
  },
  {
   "cell_type": "code",
   "execution_count": 0,
   "metadata": {
    "colab": {},
    "colab_type": "code",
    "id": "2ZYY6REPEurd"
   },
   "outputs": [],
   "source": [
    "train.Subjects.fillna(' ', inplace=True)\n",
    "test.Subjects.fillna(' ', inplace=True)\n",
    "train['text'] = train.Title +' '+ train.Subjects\n",
    "test['text'] = test.Title +' '+ test.Subjects"
   ]
  },
  {
   "cell_type": "code",
   "execution_count": 0,
   "metadata": {
    "colab": {},
    "colab_type": "code",
    "id": "ETObHBisOHd7"
   },
   "outputs": [],
   "source": [
    "train['Title_Sub'] = train.Title +' '+ train.Subjects\n",
    "test['Title_Sub'] = test.Title +' '+ test.Subjects"
   ]
  },
  {
   "cell_type": "code",
   "execution_count": 0,
   "metadata": {
    "colab": {},
    "colab_type": "code",
    "id": "CcccCZlFEy4c"
   },
   "outputs": [],
   "source": [
    "def train_logit(X, y, test_df):\n",
    "    logit = LogisticRegression(penalty='l1')\n",
    "    cv_score = cross_val_score(logit, X, y, scoring=f1, n_jobs=-1, verbose=2, cv=skf)\n",
    "    print(f'CV score : {cv_score}')\n",
    "    print(f'CV mean : {cv_score.mean()}')\n",
    "    train_score = f1_score(cross_val_predict(logit, X, y, cv=skf), y, average='weighted')\n",
    "    print(f'Train Score : {train_score}')"
   ]
  },
  {
   "cell_type": "code",
   "execution_count": 0,
   "metadata": {
    "colab": {},
    "colab_type": "code",
    "id": "XJtyeCF-FECs"
   },
   "outputs": [],
   "source": [
    "def train_lgb(X, y, test_df):\n",
    "    clf = LGBMClassifier()\n",
    "    cv_score = cross_val_score(clf, X, y, scoring=f1, n_jobs=-1, verbose=2, cv=skf)\n",
    "    print(f'CV score : {cv_score}')\n",
    "    print(f'CV mean : {cv_score.mean()}')\n",
    "    train_score = f1_score(cross_val_predict(clf, X, y, cv=skf), y, average='weighted')\n",
    "    print(f'Train Score : {train_score}') "
   ]
  },
  {
   "cell_type": "code",
   "execution_count": 0,
   "metadata": {
    "colab": {},
    "colab_type": "code",
    "id": "JGMPwZ0jVMsD"
   },
   "outputs": [],
   "source": [
    "def lgb_submission(X, y, test_df, file_name):\n",
    "    clf = LGBMClassifier()\n",
    "    clf.fit(X, y)\n",
    "    prediction = clf.predict(test_df)\n",
    "    write_submission_file(prediction, file_name)"
   ]
  },
  {
   "cell_type": "code",
   "execution_count": 0,
   "metadata": {
    "colab": {},
    "colab_type": "code",
    "id": "7D1_8mmZGf_H"
   },
   "outputs": [],
   "source": [
    "def avg_word(sentence):\n",
    "  words = sentence.split()\n",
    "  return (sum(len(word) for word in words)/len(words))"
   ]
  },
  {
   "cell_type": "code",
   "execution_count": 0,
   "metadata": {
    "colab": {},
    "colab_type": "code",
    "id": "Yj0qMQxMGF2u"
   },
   "outputs": [],
   "source": [
    "import nltk\n",
    "# nltk.download('all');"
   ]
  },
  {
   "cell_type": "code",
   "execution_count": 0,
   "metadata": {
    "colab": {
     "base_uri": "https://localhost:8080/",
     "height": 69
    },
    "colab_type": "code",
    "id": "Nbxj5dUR-Ble",
    "outputId": "b50bbab1-881c-4f1c-cda8-924f646ec612"
   },
   "outputs": [
    {
     "name": "stdout",
     "output_type": "stream",
     "text": [
      "[nltk_data] Downloading package stopwords to /root/nltk_data...\n",
      "[nltk_data]   Package stopwords is already up-to-date!\n"
     ]
    },
    {
     "data": {
      "text/plain": [
       "True"
      ]
     },
     "execution_count": 16,
     "metadata": {
      "tags": []
     },
     "output_type": "execute_result"
    }
   ],
   "source": [
    "nltk.download('stopwords')"
   ]
  },
  {
   "cell_type": "code",
   "execution_count": 0,
   "metadata": {
    "colab": {},
    "colab_type": "code",
    "id": "GUjySmsvFIFN"
   },
   "outputs": [],
   "source": [
    "def clean_data(train, test):\n",
    "    from nltk.corpus import stopwords\n",
    "    from nltk.stem import PorterStemmer\n",
    "    \n",
    "    stop = stopwords.words('english')\n",
    "    st = PorterStemmer()\n",
    "\n",
    "    train['word_count'] = train['text'].apply(lambda x: len(str(x).split(\" \")))\n",
    "    test['word_count'] = test['text'].apply(lambda x: len(str(x).split(\" \")))\n",
    "    \n",
    "    train['char_count'] = train['text'].str.len()\n",
    "    test['char_count'] = test['text'].str.len()\n",
    "    \n",
    "    train['avg_word'] = train['text'].apply(lambda x: avg_word(x))\n",
    "    test['avg_word'] = test['text'].apply(lambda x: avg_word(x))\n",
    "    \n",
    "    train['stopwords'] = train['text'].apply(lambda x: len([x for x in x.split() if x in stop]))\n",
    "    test['stopwords'] = test['text'].apply(lambda x: len([x for x in x.split() if x in stop]))\n",
    "    \n",
    "    train['text'] = train['text'].apply(lambda x: \" \".join(x.lower() for x in x.split()))\n",
    "    test['text'] = test['text'].apply(lambda x: \" \".join(x.lower() for x in x.split()))\n",
    "    \n",
    "    train['text'] = train['text'].str.replace('[^\\w\\s]','')\n",
    "    test['text'] = test['text'].str.replace('[^\\w\\s]','')\n",
    "    \n",
    "    train['text'] = train['text'].apply(lambda x: \" \".join(x for x in x.split() if x not in stop))\n",
    "    test['text'] = test['text'].apply(lambda x: \" \".join(x for x in x.split() if x not in stop))\n",
    "    \n",
    "    freq = pd.Series(' '.join(train['text']).split()).value_counts()[:10]\n",
    "    freq = list(freq.index)\n",
    "    train['text'] = train['text'].apply(lambda x: \" \".join(x for x in x.split() if x not in freq))\n",
    "    freq = pd.Series(' '.join(test['text']).split()).value_counts()[:10]\n",
    "    freq = list(freq.index)\n",
    "    test['text'] = test['text'].apply(lambda x: \" \".join(x for x in x.split() if x not in freq))\n",
    "    \n",
    "    freq = pd.Series(' '.join(train['text']).split()).value_counts()[-10:]\n",
    "    freq = list(freq.index)\n",
    "    train['text'] = train['text'].apply(lambda x: \" \".join(x for x in x.split() if x not in freq))\n",
    "    freq = pd.Series(' '.join(test['text']).split()).value_counts()[-10:]\n",
    "    freq = list(freq.index)\n",
    "    test['text'] = test['text'].apply(lambda x: \" \".join(x for x in x.split() if x not in freq))\n",
    "\n",
    "    train['text'].apply(lambda x: \" \".join([st.stem(word) for word in x.split()]))\n",
    "    test['text'].apply(lambda x: \" \".join([st.stem(word) for word in x.split()]))\n",
    "    \n",
    "    return train, test"
   ]
  },
  {
   "cell_type": "code",
   "execution_count": 0,
   "metadata": {
    "colab": {},
    "colab_type": "code",
    "id": "uX0CRwLsIoCJ"
   },
   "outputs": [],
   "source": [
    "def make_data(train_df, test_df):\n",
    "    tfidf = TfidfVectorizer()\n",
    "    train_tfidf = tfidf.fit_transform(train.Title_Sub)\n",
    "    test_tfidf = tfidf.transform(test.Title_Sub)\n",
    "    \n",
    "    X = sparse.hstack((train_tfidf, np.array(train.Checkouts)[:, None], np.array(train.PublisherPresent)[:, None], np.array(train.CreatorPresent)[:, None]))\n",
    "    X = sparse.hstack((X, np.array(train_df.word_count)[:, None], np.array(train_df.char_count)[:, None], np.array(train_df.stopwords)[:, None], np.array(train_df.avg_word)[:, None]))\n",
    "    test_matrix = sparse.hstack((test_tfidf, np.array(test_df.Checkouts)[:, None], np.array(test_df.PublisherPresent)[:, None], np.array(test_df.CreatorPresent)[:, None]))\n",
    "    test_matrix = sparse.hstack((test_matrix, np.array(test_df.word_count)[:, None], np.array(test_df.char_count)[:, None], np.array(test_df.stopwords)[:, None], np.array(test_df.avg_word)[:, None]))\n",
    "    \n",
    "    return X, test_matrix"
   ]
  },
  {
   "cell_type": "code",
   "execution_count": 0,
   "metadata": {
    "colab": {},
    "colab_type": "code",
    "id": "IRL8VTpWISec"
   },
   "outputs": [],
   "source": [
    "train_df, test_df = clean_data(train, test)"
   ]
  },
  {
   "cell_type": "code",
   "execution_count": 0,
   "metadata": {
    "colab": {},
    "colab_type": "code",
    "id": "lGWeWPMRJ8yJ"
   },
   "outputs": [],
   "source": [
    "X_train, X_test = make_data(train_df, test_df)"
   ]
  },
  {
   "cell_type": "code",
   "execution_count": 0,
   "metadata": {
    "colab": {},
    "colab_type": "code",
    "id": "6ZkcDyQe851k"
   },
   "outputs": [],
   "source": [
    "def train_xgb(X, y):\n",
    "  clf = XGBClassifier(**param_xgb, n_jobs=-1)\n",
    "  \n",
    "  cv_score = cross_val_score(clf, X, y, scoring=f1, n_jobs=-1, verbose=5, cv=skf)\n",
    "  print(f'CV score : {cv_score}')\n",
    "  print(f'CV mean : {cv_score.mean()}')\n",
    "#   train_score = f1_score(cross_val_predict(clf, X, y, cv=skf), y, average='weighted')\n",
    "#   print(f'Train Score : {train_score}') "
   ]
  },
  {
   "cell_type": "code",
   "execution_count": 0,
   "metadata": {
    "colab": {},
    "colab_type": "code",
    "id": "8yEmPionBY2J"
   },
   "outputs": [],
   "source": [
    "param_xgb = {'learning_rate': 0.06610098295419149,\n",
    " 'max_depth': 36,\n",
    " 'n_estimators': 283,\n",
    " 'subsample': 0.32264159755217825}"
   ]
  },
  {
   "cell_type": "code",
   "execution_count": 0,
   "metadata": {
    "colab": {},
    "colab_type": "code",
    "id": "YQERmM-g_xTE"
   },
   "outputs": [],
   "source": [
    "train_xgb(X_train, y)"
   ]
  },
  {
   "cell_type": "code",
   "execution_count": 0,
   "metadata": {
    "colab": {
     "base_uri": "https://localhost:8080/",
     "height": 173
    },
    "colab_type": "code",
    "id": "gS4088_DPp7b",
    "outputId": "00d2b89c-05d7-4ace-f807-6183ad2e5c5b"
   },
   "outputs": [
    {
     "name": "stdout",
     "output_type": "stream",
     "text": [
      "CPU times: user 29min 53s, sys: 1.47 s, total: 29min 55s\n",
      "Wall time: 15min 9s\n"
     ]
    },
    {
     "data": {
      "text/plain": [
       "XGBClassifier(base_score=0.5, booster='gbtree', colsample_bylevel=1,\n",
       "       colsample_bynode=1, colsample_bytree=1, gamma=0,\n",
       "       learning_rate=0.06610098295419149, max_delta_step=0, max_depth=36,\n",
       "       min_child_weight=1, missing=None, n_estimators=283, n_jobs=-1,\n",
       "       nthread=None, objective='multi:softprob', random_state=0,\n",
       "       reg_alpha=0, reg_lambda=1, scale_pos_weight=1, seed=None,\n",
       "       silent=None, subsample=0.32264159755217825, verbosity=1)"
      ]
     },
     "execution_count": 27,
     "metadata": {
      "tags": []
     },
     "output_type": "execute_result"
    }
   ],
   "source": [
    "clf = XGBClassifier(**param_xgb, objective='multi:softmax', n_jobs=-1)\n",
    "%time clf.fit(X_train, y)"
   ]
  },
  {
   "cell_type": "code",
   "execution_count": 0,
   "metadata": {
    "colab": {},
    "colab_type": "code",
    "id": "8QHT2l_HP5Za"
   },
   "outputs": [],
   "source": [
    "# preds = clf.predict(X_test)\n",
    "write_submission_file(preds, 'XGB_tuned.csv')\n",
    "# LB : 0.89151"
   ]
  },
  {
   "cell_type": "code",
   "execution_count": 0,
   "metadata": {
    "colab": {},
    "colab_type": "code",
    "id": "bAseVB0pUPaA"
   },
   "outputs": [],
   "source": [
    "proba_xgb = clf.predict_proba(X_test)"
   ]
  },
  {
   "cell_type": "code",
   "execution_count": 0,
   "metadata": {
    "colab": {
     "base_uri": "https://localhost:8080/",
     "height": 119
    },
    "colab_type": "code",
    "id": "zArtqkDzKDLq",
    "outputId": "b2546d05-6698-4c03-9d5b-bea2340438cc"
   },
   "outputs": [
    {
     "name": "stderr",
     "output_type": "stream",
     "text": [
      "[Parallel(n_jobs=-1)]: Using backend LokyBackend with 2 concurrent workers.\n",
      "[Parallel(n_jobs=-1)]: Done  10 out of  10 | elapsed:  2.8min finished\n"
     ]
    },
    {
     "name": "stdout",
     "output_type": "stream",
     "text": [
      "CV score : [0.87447933 0.8727062  0.87380148 0.868889   0.86585168 0.88189711\n",
      " 0.86651208 0.88323933 0.87735641 0.87650097]\n",
      "CV mean : 0.874123357969245\n",
      "Train Score : 0.9079833055281712\n"
     ]
    }
   ],
   "source": [
    "train_logit(X_train, y, X_test)"
   ]
  },
  {
   "cell_type": "code",
   "execution_count": 0,
   "metadata": {
    "colab": {
     "base_uri": "https://localhost:8080/",
     "height": 119
    },
    "colab_type": "code",
    "id": "vZcPssTPKQ5K",
    "outputId": "980b3e66-c4e5-49a9-d476-e80c9ad59484"
   },
   "outputs": [
    {
     "name": "stderr",
     "output_type": "stream",
     "text": [
      "[Parallel(n_jobs=-1)]: Using backend LokyBackend with 2 concurrent workers.\n",
      "[Parallel(n_jobs=-1)]: Done  10 out of  10 | elapsed:  5.6min finished\n"
     ]
    },
    {
     "name": "stdout",
     "output_type": "stream",
     "text": [
      "CV score : [0.88833257 0.88166676 0.8890405  0.87272716 0.88637954 0.88683627\n",
      " 0.87754947 0.88902222 0.88341457 0.88681396]\n",
      "CV mean : 0.8841783016647383\n",
      "Train Score : 0.9054320382259826\n"
     ]
    }
   ],
   "source": [
    "train_lgb(X_train, y, X_test)"
   ]
  },
  {
   "cell_type": "code",
   "execution_count": 0,
   "metadata": {
    "colab": {},
    "colab_type": "code",
    "id": "fbnQ2B1uSPqo"
   },
   "outputs": [],
   "source": [
    "lgb_submission(X_train, y, X_test, 'TextwithFeatures1.csv')"
   ]
  },
  {
   "cell_type": "code",
   "execution_count": 0,
   "metadata": {
    "colab": {
     "base_uri": "https://localhost:8080/",
     "height": 295
    },
    "colab_type": "code",
    "id": "FBCGiEgxc5z7",
    "outputId": "0450af09-3014-45f6-c857-4bf6fd6f6894"
   },
   "outputs": [
    {
     "name": "stderr",
     "output_type": "stream",
     "text": [
      "[Parallel(n_jobs=1)]: Using backend SequentialBackend with 1 concurrent workers.\n"
     ]
    },
    {
     "name": "stdout",
     "output_type": "stream",
     "text": [
      "[CV]  ................................................................\n",
      "[CV] ................................................. , total= 1.3min\n",
      "[CV]  ................................................................\n"
     ]
    },
    {
     "name": "stderr",
     "output_type": "stream",
     "text": [
      "[Parallel(n_jobs=1)]: Done   1 out of   1 | elapsed:  1.3min remaining:    0.0s\n"
     ]
    },
    {
     "name": "stdout",
     "output_type": "stream",
     "text": [
      "[CV] ................................................. , total= 1.3min\n",
      "[CV]  ................................................................\n",
      "[CV] ................................................. , total= 1.4min\n",
      "[CV]  ................................................................\n",
      "[CV] ................................................. , total= 1.3min\n",
      "[CV]  ................................................................\n",
      "[CV] ................................................. , total= 1.4min\n",
      "CV score : [0.87213373 0.87334636 0.8708427  0.87130875 0.87117021]\n",
      "CV mean : 0.8717603477680713\n"
     ]
    },
    {
     "name": "stderr",
     "output_type": "stream",
     "text": [
      "[Parallel(n_jobs=1)]: Done   5 out of   5 | elapsed:  6.6min finished\n"
     ]
    },
    {
     "name": "stdout",
     "output_type": "stream",
     "text": [
      "Train Score : 0.9062553154290376\n"
     ]
    }
   ],
   "source": [
    "train_xgb(X_train, y)"
   ]
  },
  {
   "cell_type": "code",
   "execution_count": 0,
   "metadata": {
    "colab": {
     "base_uri": "https://localhost:8080/",
     "height": 119
    },
    "colab_type": "code",
    "id": "22XO11Uzofdv",
    "outputId": "a3bd6a1a-c2e1-413a-9924-f9ec9782d226"
   },
   "outputs": [
    {
     "name": "stderr",
     "output_type": "stream",
     "text": [
      "[Parallel(n_jobs=-1)]: Using backend LokyBackend with 2 concurrent workers.\n",
      "[Parallel(n_jobs=-1)]: Done  10 out of  10 | elapsed: 62.5min finished\n"
     ]
    },
    {
     "name": "stdout",
     "output_type": "stream",
     "text": [
      "CV score : [0.88121538 0.89182372 0.88306223 0.87607335 0.87959142 0.87499966\n",
      " 0.88567183 0.88733508 0.88036139 0.88249595]\n",
      "CV mean : 0.8822630000724819\n",
      "Train Score : 0.9126848248626827\n"
     ]
    }
   ],
   "source": [
    "clf = BaggingClassifier(lgb)\n",
    "cv_score = cross_val_score(clf, X_train, y, scoring=f1, n_jobs=-1, verbose=2, cv=skf)\n",
    "print(f'CV score : {cv_score}')\n",
    "print(f'CV mean : {cv_score.mean()}')\n",
    "train_score = f1_score(cross_val_predict(clf, X_train, y, cv=skf), y, average='weighted')\n",
    "print(f'Train Score : {train_score}')"
   ]
  },
  {
   "cell_type": "code",
   "execution_count": 0,
   "metadata": {
    "colab": {},
    "colab_type": "code",
    "id": "CWEuE4lef9af"
   },
   "outputs": [],
   "source": []
  },
  {
   "cell_type": "code",
   "execution_count": 0,
   "metadata": {
    "colab": {
     "base_uri": "https://localhost:8080/",
     "height": 52
    },
    "colab_type": "code",
    "id": "5ACwcvcOsLa4",
    "outputId": "abbbf9c0-5c7b-4cba-b300-9ec03b488783"
   },
   "outputs": [
    {
     "name": "stdout",
     "output_type": "stream",
     "text": [
      "CPU times: user 23min 56s, sys: 5.97 s, total: 24min 2s\n",
      "Wall time: 12min 4s\n"
     ]
    }
   ],
   "source": [
    "lgb = LGBMClassifier()\n",
    "clf = BaggingClassifier(lgb, n_estimators=17)\n",
    "%time clf.fit(X_train, y)\n",
    "preds = clf.predict(X_test)\n",
    "write_submission_file(preds, 'Bagging_LGB17.csv')\n",
    "#0.88937"
   ]
  },
  {
   "cell_type": "code",
   "execution_count": 0,
   "metadata": {
    "colab": {},
    "colab_type": "code",
    "id": "WLoiESnVFwO2"
   },
   "outputs": [],
   "source": [
    "param_lgb = {'learning_rate': 0.06610098295419149,\n",
    " 'max_depth': 15,\n",
    " 'n_estimators': 281,\n",
    " 'num_leaves': 17,\n",
    " 'subsample': 0.6734464687862453}"
   ]
  },
  {
   "cell_type": "code",
   "execution_count": 0,
   "metadata": {
    "colab": {
     "base_uri": "https://localhost:8080/",
     "height": 173
    },
    "colab_type": "code",
    "id": "Y38uuN9LF5RQ",
    "outputId": "96423aad-d6a2-4978-fab0-26df3dd9c52e"
   },
   "outputs": [
    {
     "name": "stdout",
     "output_type": "stream",
     "text": [
      "CPU times: user 2min 15s, sys: 551 ms, total: 2min 16s\n",
      "Wall time: 1min 9s\n"
     ]
    },
    {
     "data": {
      "text/plain": [
       "LGBMClassifier(boosting_type='gbdt', class_weight=None, colsample_bytree=1.0,\n",
       "        importance_type='split', learning_rate=0.06610098295419149,\n",
       "        max_depth=15, min_child_samples=20, min_child_weight=0.001,\n",
       "        min_split_gain=0.0, n_estimators=281, n_jobs=-1, num_leaves=17,\n",
       "        objective=None, random_state=None, reg_alpha=0.0, reg_lambda=0.0,\n",
       "        silent=True, subsample=0.6734464687862453,\n",
       "        subsample_for_bin=200000, subsample_freq=0)"
      ]
     },
     "execution_count": 37,
     "metadata": {
      "tags": []
     },
     "output_type": "execute_result"
    }
   ],
   "source": [
    "clf_lgb = LGBMClassifier(**param_lgb)\n",
    "%time clf_lgb.fit(X_train, y)"
   ]
  },
  {
   "cell_type": "code",
   "execution_count": 0,
   "metadata": {
    "colab": {},
    "colab_type": "code",
    "id": "g_BRcfSlUl71"
   },
   "outputs": [],
   "source": [
    "preds = clf_lgb.predict(X_test)"
   ]
  },
  {
   "cell_type": "code",
   "execution_count": 0,
   "metadata": {
    "colab": {},
    "colab_type": "code",
    "id": "vMrHY9pFU_63"
   },
   "outputs": [],
   "source": [
    "write_submission_file(preds, 'LGB_tuned.csv')\n",
    "# LB 0.89381"
   ]
  },
  {
   "cell_type": "code",
   "execution_count": 0,
   "metadata": {
    "colab": {},
    "colab_type": "code",
    "id": "bIWpPdw2VXD3"
   },
   "outputs": [],
   "source": [
    "proba_lgb = clf_lgb.predict_proba(X_test)"
   ]
  },
  {
   "cell_type": "code",
   "execution_count": 0,
   "metadata": {
    "colab": {},
    "colab_type": "code",
    "id": "klAoUz17VED4"
   },
   "outputs": [],
   "source": [
    "proba_ = proba_lgb*0.6 + proba_xgb*0.4"
   ]
  },
  {
   "cell_type": "code",
   "execution_count": 0,
   "metadata": {
    "colab": {},
    "colab_type": "code",
    "id": "qbjBknYvVFxp"
   },
   "outputs": [],
   "source": [
    "proba_ = np.argmax(proba_, axis=1)"
   ]
  },
  {
   "cell_type": "code",
   "execution_count": 0,
   "metadata": {
    "colab": {},
    "colab_type": "code",
    "id": "soijt9h5VrjM"
   },
   "outputs": [],
   "source": [
    "write_submission_file(proba_, 'LGB6_XGB4_tuned.csv')\n",
    "# LB 0.89514"
   ]
  },
  {
   "cell_type": "code",
   "execution_count": 0,
   "metadata": {
    "colab": {},
    "colab_type": "code",
    "id": "up8lqEy-VtDe"
   },
   "outputs": [],
   "source": []
  }
 ],
 "metadata": {
  "accelerator": "GPU",
  "colab": {
   "collapsed_sections": [],
   "name": "SonyEricssonHiring_q2.ipynb",
   "provenance": [],
   "version": "0.3.2"
  },
  "kernelspec": {
   "display_name": "Python 3",
   "language": "python",
   "name": "python3"
  },
  "language_info": {
   "codemirror_mode": {
    "name": "ipython",
    "version": 3
   },
   "file_extension": ".py",
   "mimetype": "text/x-python",
   "name": "python",
   "nbconvert_exporter": "python",
   "pygments_lexer": "ipython3",
   "version": "3.6.7"
  }
 },
 "nbformat": 4,
 "nbformat_minor": 1
}
